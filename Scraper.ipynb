{
 "cells": [
  {
   "cell_type": "code",
   "execution_count": 9,
   "metadata": {},
   "outputs": [],
   "source": [
    "# from selenium import webdriver\n",
    "# from bs4 import BeautifulSoup as bs\n",
    "# import time\n",
    "# import re\n",
    "# from urllib.request import urlopen\n",
    "# import json\n",
    "# from pandas.io.json import json_normalize\n",
    "# import pandas as pd, numpy as np"
   ]
  },
  {
   "cell_type": "code",
   "execution_count": 10,
   "metadata": {},
   "outputs": [],
   "source": [
    "# hashtag='instagram'\n",
    "# browser = webdriver.Chrome()\n",
    "# browser.get('https://www.instagram.com/'+hashtag)\n",
    "# Pagelength = browser.execute_script(\"window.scrollTo(0, document.body.scrollHeight);\")"
   ]
  },
  {
   "cell_type": "code",
   "execution_count": 11,
   "metadata": {},
   "outputs": [],
   "source": [
    "# #Extract links from user profile page\n",
    "# links=[]\n",
    "# source = browser.page_source\n",
    "# data=bs(source, 'html.parser')\n",
    "# body = data.find('body')\n",
    "# script = body.find('script', text=lambda t: t.startswith('window._sharedData'))\n",
    "# # print(script)\n",
    "# page_json = script.string.split(' = ', 1)[1].rstrip(';')\n",
    "# data = json.loads(page_json)\n"
   ]
  },
  {
   "cell_type": "code",
   "execution_count": 12,
   "metadata": {},
   "outputs": [],
   "source": [
    "# #try 'script.string' instead of script.text if you get error on index out of range\n",
    "# for link in data['entry_data']['ProfilePage'][0]['graphql']['user']['edge_owner_to_timeline_media']['edges']:\n",
    "#     links.append('https://www.instagram.com'+'/p/'+link['node']['shortcode']+'/')\n",
    "# #try with ['display_url'] instead of ['shortcode'] if you don't get links \n",
    "# #Extract links from hashtag page\n",
    "# print(links)\n"
   ]
  },
  {
   "cell_type": "code",
   "execution_count": 13,
   "metadata": {},
   "outputs": [],
   "source": [
    "# hashtag='beardcare'\n",
    "# browser = webdriver.Chrome()\n",
    "# browser.get('https://www.instagram.com/explore/tags/'+hashtag)\n",
    "# # Pagelength = browser.execute_script(\"window.scrollTo(0, document.body.scrollHeight);\")\n",
    "# scroll(browser, 5)\n",
    "\n",
    "# links=[]\n",
    "# source = browser.page_source\n",
    "# data=bs(source, 'html.parser')\n",
    "# body = data.find('body')\n",
    "# script = body.find('script', text=lambda t: t.startswith('window._sharedData'))\n",
    "# page_json = script.string.split(' = ', 1)[1].rstrip(';')\n",
    "# data = json.loads(page_json)\n",
    "# for link in data['entry_data']['TagPage'][0]['graphql']['hashtag']['edge_hashtag_to_media']['edges']:\n",
    "#     links.append('https://www.instagram.com'+'/p/'+link['node']['shortcode']+'/')"
   ]
  },
  {
   "cell_type": "code",
   "execution_count": 14,
   "metadata": {},
   "outputs": [],
   "source": [
    "# len(links)"
   ]
  },
  {
   "cell_type": "code",
   "execution_count": 15,
   "metadata": {},
   "outputs": [],
   "source": [
    "# def scroll(driver, timeout):\n",
    "#     scroll_pause_time = timeout\n",
    "\n",
    "#     # Get scroll height\n",
    "#     last_height = driver.execute_script(\"return document.body.scrollHeight\")\n",
    "\n",
    "#     while True:\n",
    "#         # Scroll down to bottom\n",
    "#         driver.execute_script(\"window.scrollTo(0, document.body.scrollHeight);\")\n",
    "\n",
    "#         # Wait to load page\n",
    "#         time.sleep(scroll_pause_time)\n",
    "\n",
    "#         # Calculate new scroll height and compare with last scroll height\n",
    "#         new_height = driver.execute_script(\"return document.body.scrollHeight\")\n",
    "#         if new_height == last_height:\n",
    "#             # If heights are the same it will exit the function\n",
    "#             break\n",
    "#         last_height = new_height"
   ]
  },
  {
   "cell_type": "code",
   "execution_count": 16,
   "metadata": {},
   "outputs": [],
   "source": [
    "# links"
   ]
  },
  {
   "cell_type": "code",
   "execution_count": null,
   "metadata": {},
   "outputs": [],
   "source": []
  },
  {
   "cell_type": "code",
   "execution_count": null,
   "metadata": {},
   "outputs": [],
   "source": []
  },
  {
   "cell_type": "code",
   "execution_count": null,
   "metadata": {},
   "outputs": [],
   "source": []
  },
  {
   "cell_type": "code",
   "execution_count": null,
   "metadata": {},
   "outputs": [],
   "source": []
  },
  {
   "cell_type": "code",
   "execution_count": null,
   "metadata": {},
   "outputs": [],
   "source": []
  },
  {
   "cell_type": "code",
   "execution_count": null,
   "metadata": {},
   "outputs": [],
   "source": []
  },
  {
   "cell_type": "code",
   "execution_count": null,
   "metadata": {},
   "outputs": [],
   "source": []
  },
  {
   "cell_type": "code",
   "execution_count": null,
   "metadata": {},
   "outputs": [],
   "source": []
  },
  {
   "cell_type": "code",
   "execution_count": null,
   "metadata": {},
   "outputs": [],
   "source": []
  },
  {
   "cell_type": "code",
   "execution_count": 17,
   "metadata": {},
   "outputs": [],
   "source": [
    "from instaloader import Instaloader, Profile\n",
    "import datetime\n"
   ]
  },
  {
   "cell_type": "code",
   "execution_count": 18,
   "metadata": {},
   "outputs": [],
   "source": [
    "MAX_DAYS = 50\n",
    "\n",
    "LIKES_WEIGHT = 1\n",
    "COMMENTS_WEIGHT = 1\n",
    "NUM_FOLLOWERS_WEIGHT = 1\n",
    "NUM_POSTS_WEIGHT = 1\n",
    "\n",
    "def get_summary(profile):\n",
    "    user = {}\n",
    "    # print('Engagement.get_summary: {}'.format(profile.username))\n",
    "    user['followers'] = profile.followers\n",
    "    # print('  Followers: {}'.format(profile.followers))\n",
    "\n",
    "    total_num_likes = 0\n",
    "    total_num_comments = 0\n",
    "    total_num_posts = 0\n",
    "    current_date = datetime.datetime.now()\n",
    "    location = []\n",
    "#     profile\n",
    "    for post in profile.get_posts():\n",
    "        delta = current_date - post.date\n",
    "        if (delta.days > MAX_DAYS):\n",
    "            break\n",
    "        if (post.likes is not None):\n",
    "            total_num_likes += post.likes\n",
    "        if (post.comments is not None):\n",
    "            total_num_comments += post.comments\n",
    "       \n",
    "        total_num_posts += 1\n",
    "    \n",
    "        # print('  {} - Number of Likes: {}, Number of Comments: {}, Post Date: {}'.format(total_num_posts, total_num_likes, total_num_comments, post.date))\n",
    "\n",
    "    engagement = 0\n",
    "    if profile.followers > 0 and total_num_posts > 0:\n",
    "        engagement = float( (LIKES_WEIGHT * total_num_likes) + (COMMENTS_WEIGHT * total_num_comments)) / ((NUM_FOLLOWERS_WEIGHT * profile.followers) * (NUM_POSTS_WEIGHT * total_num_posts))\n",
    "    user['engagement'] = engagement * 100\n",
    "    # print('  Engagement: {}'.format(user['engagement']))\n",
    "    user['num_recent_posts'] = total_num_posts\n",
    "    \n",
    "#     user['location'] = location\n",
    "    # print('  Number of Recent Posts: {}'.format(user['num_recent_posts']))\n",
    "    post_freq = 0.0\n",
    "    if (total_num_posts > 0):\n",
    "        post_freq = float(MAX_DAYS) / total_num_posts\n",
    "    user['post_frequency'] = post_freq\n",
    "    # print('  Recent Post Frequency: {}'.format(user['post_frequency']))\n",
    "    return user"
   ]
  },
  {
   "cell_type": "code",
   "execution_count": 75,
   "metadata": {},
   "outputs": [
    {
     "name": "stdout",
     "output_type": "stream",
     "text": [
      "None\n",
      "PostLocation(id=177294966168798, name='Belgrano, CABA', slug='belgrano-caba', has_public_page=True, lat=-34.5562493236, lng=-58.4557774911)\n",
      "PostLocation(id=214427142, name='Jakarta, Indonesia', slug='jakarta-indonesia', has_public_page=True, lat=-6.1803, lng=106.8233)\n",
      "PostLocation(id=1508740479256306, name='Kottapuram Market, Kodungallur', slug='kottapuram-market-kodungallur', has_public_page=True, lat=10.2138875676, lng=76.2043070492)\n",
      "None\n",
      "None\n",
      "None\n",
      "PostLocation(id=177294966168798, name='Belgrano, CABA', slug='belgrano-caba', has_public_page=True, lat=-34.5562493236, lng=-58.4557774911)\n",
      "PostLocation(id=701964007, name='Quartier latin', slug='quartier-latin', has_public_page=True, lat=45.51535, lng=-73.56482)\n",
      "None\n",
      "PostLocation(id=212999109, name='Los Angeles, California', slug='los-angeles-california', has_public_page=True, lat=34.0564, lng=-118.2445)\n",
      "None\n",
      "PostLocation(id=214046571, name='Porto Alegre, Rio Grande do Sul', slug='porto-alegre-rio-grande-do-sul', has_public_page=True, lat=-30.0291, lng=-51.2208)\n",
      "PostLocation(id=102077264903359, name='दुकानदार भाई', slug='', has_public_page=True, lat=26.21296, lng=78.21177)\n",
      "None\n",
      "PostLocation(id=735019666, name='Pink City,Jaipur (Rajasthan)', slug='pink-cityjaipur-rajasthan', has_public_page=True, lat=26.8948809091, lng=75.7959168182)\n",
      "None\n",
      "PostLocation(id=216036659, name='Jim Thorpe, Pennsylvania', slug='jim-thorpe-pennsylvania', has_public_page=True, lat=40.8731, lng=-75.7364)\n",
      "None\n",
      "PostLocation(id=1902521559959242, name='My Home', slug='my-home', has_public_page=True, lat=None, lng=None)\n",
      "None\n",
      "PostLocation(id=214818324, name='Wellington, New Zealand', slug='wellington-new-zealand', has_public_page=True, lat=-41.2889, lng=174.777)\n",
      "PostLocation(id=212988663, name='New York, New York', slug='new-york-new-york', has_public_page=True, lat=40.7142, lng=-74.0064)\n",
      "PostLocation(id=258163218, name='General Paz y Acceso Norte', slug='general-paz-y-acceso-norte', has_public_page=True, lat=-34.5448361886, lng=-58.48803209)\n",
      "None\n",
      "None\n",
      "None\n",
      "None\n",
      "PostLocation(id=1541490869215163, name='올림픽공원', slug='', has_public_page=True, lat=37.513855, lng=127.1249695)\n",
      "None\n",
      "PostLocation(id=237549813, name='Quilicura, Chile', slug='quilicura-chile', has_public_page=True, lat=-33.36969, lng=-70.73404)\n",
      "None\n",
      "PostLocation(id=213385402, name='London, United Kingdom', slug='london-united-kingdom', has_public_page=True, lat=51.5141, lng=-0.1094)\n",
      "PostLocation(id=269507563091322, name='Lisboa', slug='lisboa', has_public_page=True, lat=38.77386, lng=-9.12572)\n",
      "None\n",
      "None\n",
      "None\n",
      "None\n",
      "None\n",
      "None\n",
      "None\n",
      "None\n",
      "None\n",
      "None\n",
      "None\n",
      "None\n",
      "None\n",
      "None\n",
      "None\n",
      "None\n",
      "None\n",
      "None\n",
      "None\n",
      "None\n",
      "None\n",
      "None\n",
      "None\n",
      "None\n",
      "None\n",
      "None\n",
      "None\n",
      "None\n",
      "None\n",
      "None\n",
      "None\n",
      "None\n",
      "None\n",
      "None\n",
      "None\n",
      "None\n",
      "None\n",
      "None\n",
      "PostLocation(id=328444307601406, name='Area 15', slug='area-15', has_public_page=True, lat=36.1311054026, lng=-115.1801020769)\n",
      "PostLocation(id=212948652, name='Jaipur, Rajasthan', slug='jaipur-rajasthan', has_public_page=True, lat=26.9167, lng=75.8167)\n",
      "None\n",
      "None\n",
      "None\n",
      "PostLocation(id=213819997, name='Vancouver, British Columbia', slug='vancouver-british-columbia', has_public_page=True, lat=49.2819, lng=-123.1204)\n",
      "PostLocation(id=44961364, name='San Francisco, California', slug='san-francisco-california', has_public_page=True, lat=37.7793, lng=-122.419)\n",
      "PostLocation(id=283601886, name='Chimalhuacán', slug='chimalhuacan', has_public_page=True, lat=19.4167, lng=-98.9464)\n",
      "None\n",
      "PostLocation(id=701964007, name='Quartier latin', slug='quartier-latin', has_public_page=True, lat=45.51535, lng=-73.56482)\n",
      "PostLocation(id=214687725, name='Barranco, Lima, Peru', slug='barranco-lima-peru', has_public_page=True, lat=-12.1395, lng=-77.0223)\n",
      "PostLocation(id=634715122, name='Mt. Prau', slug='mt-prau', has_public_page=True, lat=-6.3999865484, lng=106.840466654)\n",
      "PostLocation(id=214262204, name='Adelaide, South Australia', slug='adelaide-south-australia', has_public_page=True, lat=-34.9288, lng=138.6)\n",
      "PostLocation(id=363842527689645, name='British American Tobacco', slug='british-american-tobacco', has_public_page=True, lat=-6.71699, lng=108.56947)\n",
      "PostLocation(id=216080488, name='Providencia, Chile', slug='providencia-chile', has_public_page=True, lat=-33.43179, lng=-70.6094)\n",
      "None\n",
      "PostLocation(id=234713290, name='Av.insurgentes, Mexico,D.f', slug='avinsurgentes-mexicodf', has_public_page=True, lat=19.4126064876, lng=-99.1663397452)\n",
      "PostLocation(id=212999109, name='Los Angeles, California', slug='los-angeles-california', has_public_page=True, lat=34.0564, lng=-118.2445)\n",
      "None\n",
      "PostLocation(id=258163218, name='General Paz y Acceso Norte', slug='general-paz-y-acceso-norte', has_public_page=True, lat=-34.5448361886, lng=-58.48803209)\n",
      "None\n",
      "PostLocation(id=105565836144069, name='Singapore', slug='singapore', has_public_page=True, lat=1.29306, lng=103.856)\n",
      "PostLocation(id=222817071076897, name='Tabasco, Mexico', slug='tabasco-mexico', has_public_page=True, lat=17.9408, lng=-92.5948)\n"
     ]
    },
    {
     "ename": "KeyboardInterrupt",
     "evalue": "",
     "output_type": "error",
     "traceback": [
      "\u001b[1;31m---------------------------------------------------------------------------\u001b[0m",
      "\u001b[1;31mKeyError\u001b[0m                                  Traceback (most recent call last)",
      "\u001b[1;32m~\\anaconda3\\lib\\site-packages\\instaloader\\structures.py\u001b[0m in \u001b[0;36m_field\u001b[1;34m(self, *keys)\u001b[0m\n\u001b[0;32m    178\u001b[0m             \u001b[1;32mfor\u001b[0m \u001b[0mkey\u001b[0m \u001b[1;32min\u001b[0m \u001b[0mkeys\u001b[0m\u001b[1;33m:\u001b[0m\u001b[1;33m\u001b[0m\u001b[1;33m\u001b[0m\u001b[0m\n\u001b[1;32m--> 179\u001b[1;33m                 \u001b[0md\u001b[0m \u001b[1;33m=\u001b[0m \u001b[0md\u001b[0m\u001b[1;33m[\u001b[0m\u001b[0mkey\u001b[0m\u001b[1;33m]\u001b[0m\u001b[1;33m\u001b[0m\u001b[1;33m\u001b[0m\u001b[0m\n\u001b[0m\u001b[0;32m    180\u001b[0m             \u001b[1;32mreturn\u001b[0m \u001b[0md\u001b[0m\u001b[1;33m\u001b[0m\u001b[1;33m\u001b[0m\u001b[0m\n",
      "\u001b[1;31mKeyError\u001b[0m: 'location'",
      "\nDuring handling of the above exception, another exception occurred:\n",
      "\u001b[1;31mKeyboardInterrupt\u001b[0m                         Traceback (most recent call last)",
      "\u001b[1;32m<ipython-input-75-882ab4496405>\u001b[0m in \u001b[0;36m<module>\u001b[1;34m\u001b[0m\n\u001b[0;32m     12\u001b[0m \u001b[1;33m\u001b[0m\u001b[0m\n\u001b[0;32m     13\u001b[0m \u001b[1;32mfor\u001b[0m \u001b[0mpost\u001b[0m \u001b[1;32min\u001b[0m \u001b[0mposts\u001b[0m\u001b[1;33m:\u001b[0m\u001b[1;33m\u001b[0m\u001b[1;33m\u001b[0m\u001b[0m\n\u001b[1;32m---> 14\u001b[1;33m     \u001b[0mpostdate\u001b[0m \u001b[1;33m=\u001b[0m \u001b[0mpost\u001b[0m\u001b[1;33m.\u001b[0m\u001b[0mlocation\u001b[0m\u001b[1;33m\u001b[0m\u001b[1;33m\u001b[0m\u001b[0m\n\u001b[0m\u001b[0;32m     15\u001b[0m     \u001b[0mprint\u001b[0m\u001b[1;33m(\u001b[0m\u001b[0mpostdate\u001b[0m\u001b[1;33m)\u001b[0m\u001b[1;33m\u001b[0m\u001b[1;33m\u001b[0m\u001b[0m\n\u001b[0;32m     16\u001b[0m \u001b[1;33m\u001b[0m\u001b[0m\n",
      "\u001b[1;32m~\\anaconda3\\lib\\site-packages\\instaloader\\structures.py\u001b[0m in \u001b[0;36mlocation\u001b[1;34m(self)\u001b[0m\n\u001b[0;32m    486\u001b[0m            \u001b[0mRequire\u001b[0m \u001b[0mbeing\u001b[0m \u001b[0mlogged\u001b[0m \u001b[1;32min\u001b[0m \u001b[1;33m(\u001b[0m\u001b[1;32mas\u001b[0m \u001b[0mrequired\u001b[0m \u001b[0mby\u001b[0m \u001b[0mInstagram\u001b[0m\u001b[1;33m)\u001b[0m\u001b[1;33m,\u001b[0m \u001b[1;32mreturn\u001b[0m \u001b[1;32mNone\u001b[0m \u001b[1;32mif\u001b[0m \u001b[1;32mnot\u001b[0m \u001b[0mlogged\u001b[0m\u001b[1;33m-\u001b[0m\u001b[1;32min\u001b[0m\u001b[1;33m.\u001b[0m\u001b[1;33m\u001b[0m\u001b[1;33m\u001b[0m\u001b[0m\n\u001b[0;32m    487\u001b[0m         \"\"\"\n\u001b[1;32m--> 488\u001b[1;33m         \u001b[0mloc\u001b[0m \u001b[1;33m=\u001b[0m \u001b[0mself\u001b[0m\u001b[1;33m.\u001b[0m\u001b[0m_field\u001b[0m\u001b[1;33m(\u001b[0m\u001b[1;34m\"location\"\u001b[0m\u001b[1;33m)\u001b[0m\u001b[1;33m\u001b[0m\u001b[1;33m\u001b[0m\u001b[0m\n\u001b[0m\u001b[0;32m    489\u001b[0m         \u001b[1;32mif\u001b[0m \u001b[0mself\u001b[0m\u001b[1;33m.\u001b[0m\u001b[0m_location\u001b[0m \u001b[1;32mor\u001b[0m \u001b[1;32mnot\u001b[0m \u001b[0mloc\u001b[0m\u001b[1;33m:\u001b[0m\u001b[1;33m\u001b[0m\u001b[1;33m\u001b[0m\u001b[0m\n\u001b[0;32m    490\u001b[0m             \u001b[1;32mreturn\u001b[0m \u001b[0mself\u001b[0m\u001b[1;33m.\u001b[0m\u001b[0m_location\u001b[0m\u001b[1;33m\u001b[0m\u001b[1;33m\u001b[0m\u001b[0m\n",
      "\u001b[1;32m~\\anaconda3\\lib\\site-packages\\instaloader\\structures.py\u001b[0m in \u001b[0;36m_field\u001b[1;34m(self, *keys)\u001b[0m\n\u001b[0;32m    180\u001b[0m             \u001b[1;32mreturn\u001b[0m \u001b[0md\u001b[0m\u001b[1;33m\u001b[0m\u001b[1;33m\u001b[0m\u001b[0m\n\u001b[0;32m    181\u001b[0m         \u001b[1;32mexcept\u001b[0m \u001b[0mKeyError\u001b[0m\u001b[1;33m:\u001b[0m\u001b[1;33m\u001b[0m\u001b[1;33m\u001b[0m\u001b[0m\n\u001b[1;32m--> 182\u001b[1;33m             \u001b[0md\u001b[0m \u001b[1;33m=\u001b[0m \u001b[0mself\u001b[0m\u001b[1;33m.\u001b[0m\u001b[0m_full_metadata\u001b[0m\u001b[1;33m\u001b[0m\u001b[1;33m\u001b[0m\u001b[0m\n\u001b[0m\u001b[0;32m    183\u001b[0m             \u001b[1;32mfor\u001b[0m \u001b[0mkey\u001b[0m \u001b[1;32min\u001b[0m \u001b[0mkeys\u001b[0m\u001b[1;33m:\u001b[0m\u001b[1;33m\u001b[0m\u001b[1;33m\u001b[0m\u001b[0m\n\u001b[0;32m    184\u001b[0m                 \u001b[0md\u001b[0m \u001b[1;33m=\u001b[0m \u001b[0md\u001b[0m\u001b[1;33m[\u001b[0m\u001b[0mkey\u001b[0m\u001b[1;33m]\u001b[0m\u001b[1;33m\u001b[0m\u001b[1;33m\u001b[0m\u001b[0m\n",
      "\u001b[1;32m~\\anaconda3\\lib\\site-packages\\instaloader\\structures.py\u001b[0m in \u001b[0;36m_full_metadata\u001b[1;34m(self)\u001b[0m\n\u001b[0;32m    159\u001b[0m     \u001b[1;33m@\u001b[0m\u001b[0mproperty\u001b[0m\u001b[1;33m\u001b[0m\u001b[1;33m\u001b[0m\u001b[0m\n\u001b[0;32m    160\u001b[0m     \u001b[1;32mdef\u001b[0m \u001b[0m_full_metadata\u001b[0m\u001b[1;33m(\u001b[0m\u001b[0mself\u001b[0m\u001b[1;33m)\u001b[0m \u001b[1;33m->\u001b[0m \u001b[0mDict\u001b[0m\u001b[1;33m[\u001b[0m\u001b[0mstr\u001b[0m\u001b[1;33m,\u001b[0m \u001b[0mAny\u001b[0m\u001b[1;33m]\u001b[0m\u001b[1;33m:\u001b[0m\u001b[1;33m\u001b[0m\u001b[1;33m\u001b[0m\u001b[0m\n\u001b[1;32m--> 161\u001b[1;33m         \u001b[0mself\u001b[0m\u001b[1;33m.\u001b[0m\u001b[0m_obtain_metadata\u001b[0m\u001b[1;33m(\u001b[0m\u001b[1;33m)\u001b[0m\u001b[1;33m\u001b[0m\u001b[1;33m\u001b[0m\u001b[0m\n\u001b[0m\u001b[0;32m    162\u001b[0m         \u001b[1;32massert\u001b[0m \u001b[0mself\u001b[0m\u001b[1;33m.\u001b[0m\u001b[0m_full_metadata_dict\u001b[0m \u001b[1;32mis\u001b[0m \u001b[1;32mnot\u001b[0m \u001b[1;32mNone\u001b[0m\u001b[1;33m\u001b[0m\u001b[1;33m\u001b[0m\u001b[0m\n\u001b[0;32m    163\u001b[0m         \u001b[1;32mreturn\u001b[0m \u001b[0mself\u001b[0m\u001b[1;33m.\u001b[0m\u001b[0m_full_metadata_dict\u001b[0m\u001b[1;33m\u001b[0m\u001b[1;33m\u001b[0m\u001b[0m\n",
      "\u001b[1;32m~\\anaconda3\\lib\\site-packages\\instaloader\\structures.py\u001b[0m in \u001b[0;36m_obtain_metadata\u001b[1;34m(self)\u001b[0m\n\u001b[0;32m    142\u001b[0m     \u001b[1;32mdef\u001b[0m \u001b[0m_obtain_metadata\u001b[0m\u001b[1;33m(\u001b[0m\u001b[0mself\u001b[0m\u001b[1;33m)\u001b[0m\u001b[1;33m:\u001b[0m\u001b[1;33m\u001b[0m\u001b[1;33m\u001b[0m\u001b[0m\n\u001b[0;32m    143\u001b[0m         \u001b[1;32mif\u001b[0m \u001b[1;32mnot\u001b[0m \u001b[0mself\u001b[0m\u001b[1;33m.\u001b[0m\u001b[0m_full_metadata_dict\u001b[0m\u001b[1;33m:\u001b[0m\u001b[1;33m\u001b[0m\u001b[1;33m\u001b[0m\u001b[0m\n\u001b[1;32m--> 144\u001b[1;33m             pic_json = self._context.graphql_query(\n\u001b[0m\u001b[0;32m    145\u001b[0m                 \u001b[1;34m'2b0673e0dc4580674a88d426fe00ea90'\u001b[0m\u001b[1;33m,\u001b[0m\u001b[1;33m\u001b[0m\u001b[1;33m\u001b[0m\u001b[0m\n\u001b[0;32m    146\u001b[0m                 \u001b[1;33m{\u001b[0m\u001b[1;34m'shortcode'\u001b[0m\u001b[1;33m:\u001b[0m \u001b[0mself\u001b[0m\u001b[1;33m.\u001b[0m\u001b[0mshortcode\u001b[0m\u001b[1;33m}\u001b[0m\u001b[1;33m\u001b[0m\u001b[1;33m\u001b[0m\u001b[0m\n",
      "\u001b[1;32m~\\anaconda3\\lib\\site-packages\\instaloader\\instaloadercontext.py\u001b[0m in \u001b[0;36mgraphql_query\u001b[1;34m(self, query_hash, variables, referer, rhx_gis)\u001b[0m\n\u001b[0;32m    416\u001b[0m                 \u001b[0mtmpsession\u001b[0m\u001b[1;33m.\u001b[0m\u001b[0mheaders\u001b[0m\u001b[1;33m[\u001b[0m\u001b[1;34m'x-instagram-gis'\u001b[0m\u001b[1;33m]\u001b[0m \u001b[1;33m=\u001b[0m \u001b[0mx_instagram_gis\u001b[0m\u001b[1;33m\u001b[0m\u001b[1;33m\u001b[0m\u001b[0m\n\u001b[0;32m    417\u001b[0m \u001b[1;33m\u001b[0m\u001b[0m\n\u001b[1;32m--> 418\u001b[1;33m             resp_json = self.get_json('graphql/query',\n\u001b[0m\u001b[0;32m    419\u001b[0m                                       params={'query_hash': query_hash,\n\u001b[0;32m    420\u001b[0m                                               'variables': variables_json},\n",
      "\u001b[1;32m~\\anaconda3\\lib\\site-packages\\instaloader\\instaloadercontext.py\u001b[0m in \u001b[0;36mget_json\u001b[1;34m(self, path, params, host, session, _attempt)\u001b[0m\n\u001b[0;32m    313\u001b[0m         \u001b[0msess\u001b[0m \u001b[1;33m=\u001b[0m \u001b[0msession\u001b[0m \u001b[1;32mif\u001b[0m \u001b[0msession\u001b[0m \u001b[1;32melse\u001b[0m \u001b[0mself\u001b[0m\u001b[1;33m.\u001b[0m\u001b[0m_session\u001b[0m\u001b[1;33m\u001b[0m\u001b[1;33m\u001b[0m\u001b[0m\n\u001b[0;32m    314\u001b[0m         \u001b[1;32mtry\u001b[0m\u001b[1;33m:\u001b[0m\u001b[1;33m\u001b[0m\u001b[1;33m\u001b[0m\u001b[0m\n\u001b[1;32m--> 315\u001b[1;33m             \u001b[0mself\u001b[0m\u001b[1;33m.\u001b[0m\u001b[0mdo_sleep\u001b[0m\u001b[1;33m(\u001b[0m\u001b[1;33m)\u001b[0m\u001b[1;33m\u001b[0m\u001b[1;33m\u001b[0m\u001b[0m\n\u001b[0m\u001b[0;32m    316\u001b[0m             \u001b[1;32mif\u001b[0m \u001b[0mis_graphql_query\u001b[0m\u001b[1;33m:\u001b[0m\u001b[1;33m\u001b[0m\u001b[1;33m\u001b[0m\u001b[0m\n\u001b[0;32m    317\u001b[0m                 \u001b[0mself\u001b[0m\u001b[1;33m.\u001b[0m\u001b[0m_rate_controller\u001b[0m\u001b[1;33m.\u001b[0m\u001b[0mwait_before_query\u001b[0m\u001b[1;33m(\u001b[0m\u001b[0mparams\u001b[0m\u001b[1;33m[\u001b[0m\u001b[1;34m'query_hash'\u001b[0m\u001b[1;33m]\u001b[0m\u001b[1;33m)\u001b[0m\u001b[1;33m\u001b[0m\u001b[1;33m\u001b[0m\u001b[0m\n",
      "\u001b[1;32m~\\anaconda3\\lib\\site-packages\\instaloader\\instaloadercontext.py\u001b[0m in \u001b[0;36mdo_sleep\u001b[1;34m(self)\u001b[0m\n\u001b[0;32m    293\u001b[0m         \u001b[1;34m\"\"\"Sleep a short time if self.sleep is set. Called before each request to instagram.com.\"\"\"\u001b[0m\u001b[1;33m\u001b[0m\u001b[1;33m\u001b[0m\u001b[0m\n\u001b[0;32m    294\u001b[0m         \u001b[1;32mif\u001b[0m \u001b[0mself\u001b[0m\u001b[1;33m.\u001b[0m\u001b[0msleep\u001b[0m\u001b[1;33m:\u001b[0m\u001b[1;33m\u001b[0m\u001b[1;33m\u001b[0m\u001b[0m\n\u001b[1;32m--> 295\u001b[1;33m             \u001b[0mtime\u001b[0m\u001b[1;33m.\u001b[0m\u001b[0msleep\u001b[0m\u001b[1;33m(\u001b[0m\u001b[0mmin\u001b[0m\u001b[1;33m(\u001b[0m\u001b[0mrandom\u001b[0m\u001b[1;33m.\u001b[0m\u001b[0mexpovariate\u001b[0m\u001b[1;33m(\u001b[0m\u001b[1;36m0.7\u001b[0m\u001b[1;33m)\u001b[0m\u001b[1;33m,\u001b[0m \u001b[1;36m5.0\u001b[0m\u001b[1;33m)\u001b[0m\u001b[1;33m)\u001b[0m\u001b[1;33m\u001b[0m\u001b[1;33m\u001b[0m\u001b[0m\n\u001b[0m\u001b[0;32m    296\u001b[0m \u001b[1;33m\u001b[0m\u001b[0m\n\u001b[0;32m    297\u001b[0m     def get_json(self, path: str, params: Dict[str, Any], host: str = 'www.instagram.com',\n",
      "\u001b[1;31mKeyboardInterrupt\u001b[0m: "
     ]
    }
   ],
   "source": [
    "# from datetime import datetime\n",
    "# import instaloader\n",
    "\n",
    "# L = instaloader.Instaloader()\n",
    "# L.login('an_and_17','Anand@1720')\n",
    "# posts = instaloader.Hashtag.from_name(L.context, \"urbanphotography\").get_posts()\n",
    "\n",
    "\n",
    "\n",
    "# k = 0  # initiate k\n",
    "# #k_list = []  # uncomment this to tune k\n",
    "\n",
    "# for post in posts:\n",
    "#     postdate = post.location\n",
    "#     print(postdate)\n",
    "\n",
    "# #     if postdate > UNTIL:\n",
    "# #         continue\n",
    "# #     elif postdate <= SINCE:\n",
    "# #         k += 1\n",
    "# #         if k == 50:\n",
    "# #             break\n",
    "# #         else:\n",
    "# #             continue\n",
    "# #     else:\n",
    "# #         L.download_post(post, \"#urbanphotography\")\n",
    "# #         # if you want to tune k, uncomment below to get your k max\n",
    "# #         #k_list.append(k)\n",
    "# #         k = 0  # set k to 0\n"
   ]
  },
  {
   "cell_type": "code",
   "execution_count": 83,
   "metadata": {},
   "outputs": [
    {
     "data": {
      "text/plain": [
       "222817071076897"
      ]
     },
     "execution_count": 83,
     "metadata": {},
     "output_type": "execute_result"
    }
   ],
   "source": [
    "# postdate.id\n"
   ]
  },
  {
   "cell_type": "code",
   "execution_count": 50,
   "metadata": {},
   "outputs": [],
   "source": [
    "# import instaloader\n",
    "\n",
    "# L = instaloader.Instaloader()\n",
    "\n",
    "# posts = instaloader.Hashtag.from_name(L.context, \"urbanphotography\").get_posts()"
   ]
  },
  {
   "cell_type": "code",
   "execution_count": 55,
   "metadata": {},
   "outputs": [],
   "source": [
    "# for post in posts:\n",
    "#     print(post.date)"
   ]
  },
  {
   "cell_type": "code",
   "execution_count": 45,
   "metadata": {},
   "outputs": [
    {
     "ename": "AttributeError",
     "evalue": "'Instaloader' object has no attribute 'get_locations'",
     "output_type": "error",
     "traceback": [
      "\u001b[1;31m---------------------------------------------------------------------------\u001b[0m",
      "\u001b[1;31mAttributeError\u001b[0m                            Traceback (most recent call last)",
      "\u001b[1;32m<ipython-input-45-a60eec909f47>\u001b[0m in \u001b[0;36m<module>\u001b[1;34m\u001b[0m\n\u001b[0;32m      3\u001b[0m \u001b[0mHASHTAG\u001b[0m\u001b[1;33m=\u001b[0m\u001b[1;34m'beardcare'\u001b[0m\u001b[1;33m\u001b[0m\u001b[1;33m\u001b[0m\u001b[0m\n\u001b[0;32m      4\u001b[0m \u001b[1;32mfor\u001b[0m \u001b[0mpost\u001b[0m \u001b[1;32min\u001b[0m \u001b[0mL\u001b[0m\u001b[1;33m.\u001b[0m\u001b[0mget_hashtag_posts\u001b[0m\u001b[1;33m(\u001b[0m\u001b[0mHASHTAG\u001b[0m\u001b[1;33m)\u001b[0m\u001b[1;33m:\u001b[0m\u001b[1;33m\u001b[0m\u001b[1;33m\u001b[0m\u001b[0m\n\u001b[1;32m----> 5\u001b[1;33m     \u001b[0mlocation\u001b[0m\u001b[1;33m=\u001b[0m\u001b[0mL\u001b[0m\u001b[1;33m.\u001b[0m\u001b[0mget_locations\u001b[0m\u001b[1;33m(\u001b[0m\u001b[0mpost\u001b[0m\u001b[1;33m)\u001b[0m\u001b[1;33m\u001b[0m\u001b[1;33m\u001b[0m\u001b[0m\n\u001b[0m",
      "\u001b[1;31mAttributeError\u001b[0m: 'Instaloader' object has no attribute 'get_locations'"
     ]
    }
   ],
   "source": [
    "# L = Instaloader()\n",
    "# L.login('an_and_17','Anand@1720')\n",
    "# HASHTAG='beardcare'\n",
    "# for post in L.get_hashtag_posts(HASHTAG):\n",
    "#     location=L.get_locations(post)"
   ]
  },
  {
   "cell_type": "code",
   "execution_count": 82,
   "metadata": {},
   "outputs": [
    {
     "ename": "AttributeError",
     "evalue": "'generator' object has no attribute 'id'",
     "output_type": "error",
     "traceback": [
      "\u001b[1;31m---------------------------------------------------------------------------\u001b[0m",
      "\u001b[1;31mAttributeError\u001b[0m                            Traceback (most recent call last)",
      "\u001b[1;32m<ipython-input-82-9a5b46484378>\u001b[0m in \u001b[0;36m<module>\u001b[1;34m\u001b[0m\n\u001b[1;32m----> 1\u001b[1;33m \u001b[0mlocation\u001b[0m\u001b[1;33m.\u001b[0m\u001b[0mid\u001b[0m\u001b[1;33m\u001b[0m\u001b[1;33m\u001b[0m\u001b[0m\n\u001b[0m",
      "\u001b[1;31mAttributeError\u001b[0m: 'generator' object has no attribute 'id'"
     ]
    }
   ],
   "source": [
    "# location.id"
   ]
  },
  {
   "cell_type": "code",
   "execution_count": null,
   "metadata": {},
   "outputs": [],
   "source": [
    "import threading\n",
    "from instaloader import Instaloader, Profile\n",
    "# import engagement\n",
    "import pickle\n",
    "\n",
    "loader = Instaloader()\n",
    "NUM_POSTS = 50\n",
    "loader.login('an_and_17','Anand@1720')\n",
    "\n",
    "def get_hashtags_posts(query):\n",
    "    posts = loader.get_hashtag_posts(query)\n",
    "    users = {}\n",
    "    count = 0\n",
    "    for post in posts:\n",
    "        profile = post.owner_profile\n",
    "        loc = post.location\n",
    "        if loc != None:\n",
    "            if profile.username not in users and loc.id == ['213069300','213011753'] :\n",
    "                summary = get_summary(profile)\n",
    "                users[profile.username] = summary\n",
    "                count += 1\n",
    "                print('{}: {}'.format(count, profile.username))\n",
    "                if count == NUM_POSTS:\n",
    "                    break\n",
    "    return users\n",
    "\n",
    "if __name__ == \"__main__\":\n",
    "    hashtag = \"beardcare\"\n",
    "    users = get_hashtags_posts(hashtag)\n",
    "    print(users)"
   ]
  },
  {
   "cell_type": "code",
   "execution_count": 28,
   "metadata": {},
   "outputs": [],
   "source": [
    "# location = loader.get_location_posts('Australia')"
   ]
  },
  {
   "cell_type": "code",
   "execution_count": null,
   "metadata": {},
   "outputs": [],
   "source": [
    "# for i in location:\n",
    "# #     print(i)"
   ]
  },
  {
   "cell_type": "code",
   "execution_count": null,
   "metadata": {},
   "outputs": [],
   "source": []
  }
 ],
 "metadata": {
  "kernelspec": {
   "display_name": "Python 3",
   "language": "python",
   "name": "python3"
  },
  "language_info": {
   "codemirror_mode": {
    "name": "ipython",
    "version": 3
   },
   "file_extension": ".py",
   "mimetype": "text/x-python",
   "name": "python",
   "nbconvert_exporter": "python",
   "pygments_lexer": "ipython3",
   "version": "3.8.3"
  }
 },
 "nbformat": 4,
 "nbformat_minor": 4
}
