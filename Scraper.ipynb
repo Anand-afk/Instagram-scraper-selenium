{
 "cells": [
  {
   "cell_type": "code",
   "execution_count": 6,
   "metadata": {},
   "outputs": [],
   "source": [
    "from selenium import webdriver\n",
    "from bs4 import BeautifulSoup as bs\n",
    "import time\n",
    "import re\n",
    "from urllib.request import urlopen\n",
    "import json\n",
    "from pandas.io.json import json_normalize\n",
    "import pandas as pd, numpy as np"
   ]
  },
  {
   "cell_type": "code",
   "execution_count": 33,
   "metadata": {},
   "outputs": [],
   "source": [
    "hashtag='instagram'\n",
    "browser = webdriver.Chrome()\n",
    "browser.get('https://www.instagram.com/'+hashtag)\n",
    "Pagelength = browser.execute_script(\"window.scrollTo(0, document.body.scrollHeight);\")"
   ]
  },
  {
   "cell_type": "code",
   "execution_count": 34,
   "metadata": {},
   "outputs": [],
   "source": [
    "#Extract links from user profile page\n",
    "links=[]\n",
    "source = browser.page_source\n",
    "data=bs(source, 'html.parser')\n",
    "body = data.find('body')\n",
    "script = body.find('script', text=lambda t: t.startswith('window._sharedData'))\n",
    "# print(script)\n",
    "page_json = script.string.split(' = ', 1)[1].rstrip(';')\n",
    "data = json.loads(page_json)\n"
   ]
  },
  {
   "cell_type": "code",
   "execution_count": 36,
   "metadata": {},
   "outputs": [
    {
     "name": "stdout",
     "output_type": "stream",
     "text": [
      "['https://www.instagram.com/p/CFPtx6-MMr5/', 'https://www.instagram.com/p/CFPmeKrjVDW/', 'https://www.instagram.com/p/CFND8w3s17W/', 'https://www.instagram.com/p/CFKs92bsm_d/', 'https://www.instagram.com/p/CFKrTnzjm2S/', 'https://www.instagram.com/p/CFKffKOsxCF/', 'https://www.instagram.com/p/CFH3WKBMZj8/', 'https://www.instagram.com/p/CFFTClrMW6h/', 'https://www.instagram.com/p/CFAq350jcXz/', 'https://www.instagram.com/p/CE94U12MNVs/', 'https://www.instagram.com/p/CE9xgF3jwS_/', 'https://www.instagram.com/p/CE7AhQ9jlQv/']\n"
     ]
    }
   ],
   "source": [
    "#try 'script.string' instead of script.text if you get error on index out of range\n",
    "for link in data['entry_data']['ProfilePage'][0]['graphql']['user']['edge_owner_to_timeline_media']['edges']:\n",
    "    links.append('https://www.instagram.com'+'/p/'+link['node']['shortcode']+'/')\n",
    "#try with ['display_url'] instead of ['shortcode'] if you don't get links \n",
    "#Extract links from hashtag page\n",
    "print(links)\n"
   ]
  },
  {
   "cell_type": "code",
   "execution_count": 50,
   "metadata": {},
   "outputs": [
    {
     "ename": "KeyboardInterrupt",
     "evalue": "",
     "output_type": "error",
     "traceback": [
      "\u001b[1;31m---------------------------------------------------------------------------\u001b[0m",
      "\u001b[1;31mKeyboardInterrupt\u001b[0m                         Traceback (most recent call last)",
      "\u001b[1;32m<ipython-input-50-9897331861e8>\u001b[0m in \u001b[0;36m<module>\u001b[1;34m\u001b[0m\n\u001b[0;32m      3\u001b[0m \u001b[0mbrowser\u001b[0m\u001b[1;33m.\u001b[0m\u001b[0mget\u001b[0m\u001b[1;33m(\u001b[0m\u001b[1;34m'https://www.instagram.com/explore/tags/'\u001b[0m\u001b[1;33m+\u001b[0m\u001b[0mhashtag\u001b[0m\u001b[1;33m)\u001b[0m\u001b[1;33m\u001b[0m\u001b[1;33m\u001b[0m\u001b[0m\n\u001b[0;32m      4\u001b[0m \u001b[1;31m# Pagelength = browser.execute_script(\"window.scrollTo(0, document.body.scrollHeight);\")\u001b[0m\u001b[1;33m\u001b[0m\u001b[1;33m\u001b[0m\u001b[1;33m\u001b[0m\u001b[0m\n\u001b[1;32m----> 5\u001b[1;33m \u001b[0mscroll\u001b[0m\u001b[1;33m(\u001b[0m\u001b[0mbrowser\u001b[0m\u001b[1;33m,\u001b[0m \u001b[1;36m5\u001b[0m\u001b[1;33m)\u001b[0m\u001b[1;33m\u001b[0m\u001b[1;33m\u001b[0m\u001b[0m\n\u001b[0m\u001b[0;32m      6\u001b[0m \u001b[1;33m\u001b[0m\u001b[0m\n\u001b[0;32m      7\u001b[0m \u001b[0mlinks\u001b[0m\u001b[1;33m=\u001b[0m\u001b[1;33m[\u001b[0m\u001b[1;33m]\u001b[0m\u001b[1;33m\u001b[0m\u001b[1;33m\u001b[0m\u001b[0m\n",
      "\u001b[1;32m<ipython-input-49-22477445f96b>\u001b[0m in \u001b[0;36mscroll\u001b[1;34m(driver, timeout)\u001b[0m\n\u001b[0;32m     10\u001b[0m \u001b[1;33m\u001b[0m\u001b[0m\n\u001b[0;32m     11\u001b[0m         \u001b[1;31m# Wait to load page\u001b[0m\u001b[1;33m\u001b[0m\u001b[1;33m\u001b[0m\u001b[1;33m\u001b[0m\u001b[0m\n\u001b[1;32m---> 12\u001b[1;33m         \u001b[0mtime\u001b[0m\u001b[1;33m.\u001b[0m\u001b[0msleep\u001b[0m\u001b[1;33m(\u001b[0m\u001b[0mscroll_pause_time\u001b[0m\u001b[1;33m)\u001b[0m\u001b[1;33m\u001b[0m\u001b[1;33m\u001b[0m\u001b[0m\n\u001b[0m\u001b[0;32m     13\u001b[0m \u001b[1;33m\u001b[0m\u001b[0m\n\u001b[0;32m     14\u001b[0m         \u001b[1;31m# Calculate new scroll height and compare with last scroll height\u001b[0m\u001b[1;33m\u001b[0m\u001b[1;33m\u001b[0m\u001b[1;33m\u001b[0m\u001b[0m\n",
      "\u001b[1;31mKeyboardInterrupt\u001b[0m: "
     ]
    }
   ],
   "source": [
    "hashtag='beardcare'\n",
    "browser = webdriver.Chrome()\n",
    "browser.get('https://www.instagram.com/explore/tags/'+hashtag)\n",
    "# Pagelength = browser.execute_script(\"window.scrollTo(0, document.body.scrollHeight);\")\n",
    "scroll(browser, 5)\n",
    "\n",
    "links=[]\n",
    "source = browser.page_source\n",
    "data=bs(source, 'html.parser')\n",
    "body = data.find('body')\n",
    "script = body.find('script', text=lambda t: t.startswith('window._sharedData'))\n",
    "page_json = script.string.split(' = ', 1)[1].rstrip(';')\n",
    "data = json.loads(page_json)\n",
    "for link in data['entry_data']['TagPage'][0]['graphql']['hashtag']['edge_hashtag_to_media']['edges']:\n",
    "    links.append('https://www.instagram.com'+'/p/'+link['node']['shortcode']+'/')"
   ]
  },
  {
   "cell_type": "code",
   "execution_count": 52,
   "metadata": {},
   "outputs": [
    {
     "data": {
      "text/plain": [
       "69"
      ]
     },
     "execution_count": 52,
     "metadata": {},
     "output_type": "execute_result"
    }
   ],
   "source": [
    "len(links)"
   ]
  },
  {
   "cell_type": "code",
   "execution_count": 49,
   "metadata": {},
   "outputs": [],
   "source": [
    "def scroll(driver, timeout):\n",
    "    scroll_pause_time = timeout\n",
    "\n",
    "    # Get scroll height\n",
    "    last_height = driver.execute_script(\"return document.body.scrollHeight\")\n",
    "\n",
    "    while True:\n",
    "        # Scroll down to bottom\n",
    "        driver.execute_script(\"window.scrollTo(0, document.body.scrollHeight);\")\n",
    "\n",
    "        # Wait to load page\n",
    "        time.sleep(scroll_pause_time)\n",
    "\n",
    "        # Calculate new scroll height and compare with last scroll height\n",
    "        new_height = driver.execute_script(\"return document.body.scrollHeight\")\n",
    "        if new_height == last_height:\n",
    "            # If heights are the same it will exit the function\n",
    "            break\n",
    "        last_height = new_height"
   ]
  },
  {
   "cell_type": "code",
   "execution_count": 46,
   "metadata": {},
   "outputs": [
    {
     "data": {
      "text/plain": [
       "['https://www.instagram.com/p/CFRJBoeAf09/',\n",
       " 'https://www.instagram.com/p/CFRI6v1AcKG/',\n",
       " 'https://www.instagram.com/p/CFRIoOuo9t5/',\n",
       " 'https://www.instagram.com/p/CFRIXfCFVG0/',\n",
       " 'https://www.instagram.com/p/CFRHqw-nAa8/',\n",
       " 'https://www.instagram.com/p/CFRHZzCHUbg/',\n",
       " 'https://www.instagram.com/p/CFRHJ7CBgBC/',\n",
       " 'https://www.instagram.com/p/CFRG6obBUIn/',\n",
       " 'https://www.instagram.com/p/CFRGGKhg6Ug/',\n",
       " 'https://www.instagram.com/p/CFRF17UKWLi/',\n",
       " 'https://www.instagram.com/p/CFRFtSYDj6T/',\n",
       " 'https://www.instagram.com/p/CFRD4N7AF3W/',\n",
       " 'https://www.instagram.com/p/CFRD1qIBBdF/',\n",
       " 'https://www.instagram.com/p/CFRCIiSBkYO/',\n",
       " 'https://www.instagram.com/p/CFRB2jFBTOt/',\n",
       " 'https://www.instagram.com/p/CFRBw_QF9qX/',\n",
       " 'https://www.instagram.com/p/CFRBgvunRva/',\n",
       " 'https://www.instagram.com/p/CFQ_sNTnR20/',\n",
       " 'https://www.instagram.com/p/CFQ_JcsBT6K/',\n",
       " 'https://www.instagram.com/p/CFQ-IRTjSPt/',\n",
       " 'https://www.instagram.com/p/CFQ-BPSHLGx/',\n",
       " 'https://www.instagram.com/p/CFQ9fZEgZIt/',\n",
       " 'https://www.instagram.com/p/CFQ8eIOnJOb/',\n",
       " 'https://www.instagram.com/p/CFQ8ApqH9a8/',\n",
       " 'https://www.instagram.com/p/CFQ7iish_MA/',\n",
       " 'https://www.instagram.com/p/CFQ7O3mBAQ8/',\n",
       " 'https://www.instagram.com/p/CFQ7HaIHtGp/',\n",
       " 'https://www.instagram.com/p/CFQ7HTWhR5X/',\n",
       " 'https://www.instagram.com/p/CFQ68kmhHbh/',\n",
       " 'https://www.instagram.com/p/CFQ6eUjnSE9/',\n",
       " 'https://www.instagram.com/p/CFQ5SJ7nI7K/',\n",
       " 'https://www.instagram.com/p/CFQ5TUmJ9-a/',\n",
       " 'https://www.instagram.com/p/CFQ5JsJJwuj/',\n",
       " 'https://www.instagram.com/p/CFQ5BjKpxq_/',\n",
       " 'https://www.instagram.com/p/CFQ4HsuAP_K/',\n",
       " 'https://www.instagram.com/p/CFQ3PErHQgf/',\n",
       " 'https://www.instagram.com/p/CFQ1oRzHE8F/',\n",
       " 'https://www.instagram.com/p/CFQ0qRupHt5/',\n",
       " 'https://www.instagram.com/p/CFQ0La_DGfw/',\n",
       " 'https://www.instagram.com/p/CFQ0ImOjVL_/',\n",
       " 'https://www.instagram.com/p/CFQ0FUnDlIX/',\n",
       " 'https://www.instagram.com/p/CFQ0BokDQAB/',\n",
       " 'https://www.instagram.com/p/CFQz-x-Da3R/',\n",
       " 'https://www.instagram.com/p/CFQz7I5j1Uo/',\n",
       " 'https://www.instagram.com/p/CFQz22GjaCu/',\n",
       " 'https://www.instagram.com/p/CFQzyByjRjc/',\n",
       " 'https://www.instagram.com/p/CFQzsK8DwOQ/',\n",
       " 'https://www.instagram.com/p/CFQzHxJn6_3/',\n",
       " 'https://www.instagram.com/p/CFQx3EKnULM/',\n",
       " 'https://www.instagram.com/p/CFQxdc7FzaG/',\n",
       " 'https://www.instagram.com/p/CFQwf8oHNVy/',\n",
       " 'https://www.instagram.com/p/CFQv0DUnjHo/',\n",
       " 'https://www.instagram.com/p/CFQvRY5Mjjy/',\n",
       " 'https://www.instagram.com/p/CFQtA_hn2Hl/',\n",
       " 'https://www.instagram.com/p/CFQvAgiFPM_/',\n",
       " 'https://www.instagram.com/p/CFQuq2ohebv/',\n",
       " 'https://www.instagram.com/p/CFQuPyhhhmH/',\n",
       " 'https://www.instagram.com/p/CFQuMdGgQMZ/',\n",
       " 'https://www.instagram.com/p/CFQt9HIDNM5/',\n",
       " 'https://www.instagram.com/p/CFQty8EHvHB/',\n",
       " 'https://www.instagram.com/p/CFQtiaelueT/',\n",
       " 'https://www.instagram.com/p/CFQtgZiBWHO/',\n",
       " 'https://www.instagram.com/p/CFQtVp0H1vG/',\n",
       " 'https://www.instagram.com/p/CFQskOXnMBu/',\n",
       " 'https://www.instagram.com/p/CFQoYVRBC0W/',\n",
       " 'https://www.instagram.com/p/CFQofbDnM2X/',\n",
       " 'https://www.instagram.com/p/CFQcUr6BYbN/',\n",
       " 'https://www.instagram.com/p/CFQHqHNhzvH/',\n",
       " 'https://www.instagram.com/p/CEe1YDBFk9q/']"
      ]
     },
     "execution_count": 46,
     "metadata": {},
     "output_type": "execute_result"
    }
   ],
   "source": [
    "links"
   ]
  },
  {
   "cell_type": "code",
   "execution_count": null,
   "metadata": {},
   "outputs": [],
   "source": []
  },
  {
   "cell_type": "code",
   "execution_count": null,
   "metadata": {},
   "outputs": [],
   "source": []
  },
  {
   "cell_type": "code",
   "execution_count": null,
   "metadata": {},
   "outputs": [],
   "source": []
  },
  {
   "cell_type": "code",
   "execution_count": null,
   "metadata": {},
   "outputs": [],
   "source": []
  },
  {
   "cell_type": "code",
   "execution_count": null,
   "metadata": {},
   "outputs": [],
   "source": []
  },
  {
   "cell_type": "code",
   "execution_count": null,
   "metadata": {},
   "outputs": [],
   "source": []
  },
  {
   "cell_type": "code",
   "execution_count": null,
   "metadata": {},
   "outputs": [],
   "source": []
  },
  {
   "cell_type": "code",
   "execution_count": null,
   "metadata": {},
   "outputs": [],
   "source": []
  },
  {
   "cell_type": "code",
   "execution_count": null,
   "metadata": {},
   "outputs": [],
   "source": []
  },
  {
   "cell_type": "code",
   "execution_count": 54,
   "metadata": {},
   "outputs": [
    {
     "name": "stderr",
     "output_type": "stream",
     "text": [
      "C:\\Users\\arane\\anaconda3\\lib\\site-packages\\win_unicode_console\\__init__.py:31: RuntimeWarning: sys.stdin.encoding == 'cp1252', whereas sys.stdout.encoding == 'UTF-8', readline hook consumer may assume they are the same\n",
      "  readline_hook.enable(use_pyreadline=use_pyreadline)\n"
     ]
    }
   ],
   "source": [
    "from instaloader import Instaloader, Profile\n",
    "import datetime\n"
   ]
  },
  {
   "cell_type": "code",
   "execution_count": 70,
   "metadata": {},
   "outputs": [],
   "source": [
    "MAX_DAYS = 50\n",
    "\n",
    "LIKES_WEIGHT = 1\n",
    "COMMENTS_WEIGHT = 1\n",
    "NUM_FOLLOWERS_WEIGHT = 1\n",
    "NUM_POSTS_WEIGHT = 1\n",
    "\n",
    "def get_summary(profile):\n",
    "    user = {}\n",
    "    # print('Engagement.get_summary: {}'.format(profile.username))\n",
    "    user['followers'] = profile.followers\n",
    "    # print('  Followers: {}'.format(profile.followers))\n",
    "\n",
    "    total_num_likes = 0\n",
    "    total_num_comments = 0\n",
    "    total_num_posts = 0\n",
    "    current_date = datetime.datetime.now()\n",
    "    location = []\n",
    "\n",
    "    for post in profile.get_posts():\n",
    "        delta = current_date - post.date\n",
    "        if (delta.days > MAX_DAYS):\n",
    "            break\n",
    "        if (post.likes is not None):\n",
    "            total_num_likes += post.likes\n",
    "        if (post.comments is not None):\n",
    "            total_num_comments += post.comments\n",
    "        location.append(profile.get_locations())\n",
    "        total_num_posts += 1\n",
    "    \n",
    "        # print('  {} - Number of Likes: {}, Number of Comments: {}, Post Date: {}'.format(total_num_posts, total_num_likes, total_num_comments, post.date))\n",
    "\n",
    "    engagement = 0\n",
    "    if profile.followers > 0 and total_num_posts > 0:\n",
    "        engagement = float( (LIKES_WEIGHT * total_num_likes) + (COMMENTS_WEIGHT * total_num_comments)) / ((NUM_FOLLOWERS_WEIGHT * profile.followers) * (NUM_POSTS_WEIGHT * total_num_posts))\n",
    "    user['engagement'] = engagement * 100\n",
    "    # print('  Engagement: {}'.format(user['engagement']))\n",
    "    user['num_recent_posts'] = total_num_posts\n",
    "    \n",
    "    user['location'] = location\n",
    "    # print('  Number of Recent Posts: {}'.format(user['num_recent_posts']))\n",
    "    post_freq = 0.0\n",
    "    if (total_num_posts > 0):\n",
    "        post_freq = float(MAX_DAYS) / total_num_posts\n",
    "    user['post_frequency'] = post_freq\n",
    "    # print('  Recent Post Frequency: {}'.format(user['post_frequency']))\n",
    "    return user"
   ]
  },
  {
   "cell_type": "code",
   "execution_count": 71,
   "metadata": {},
   "outputs": [],
   "source": [
    "loader = Instaloader()\n",
    "NUM_POSTS = 10\n",
    "\n",
    "def get_hashtags_posts(query):\n",
    "    posts = loader.get_hashtag_posts(query)\n",
    "    users = {}\n",
    "    count = 0\n",
    "    for post in posts:\n",
    "        profile = post.owner_profile\n",
    "        if profile.username not in users:\n",
    "            summary = engagement.get_summary(profile)\n",
    "            users[profile.username] = summary\n",
    "            count += 1\n",
    "            print('{}: {}'.format(count, profile.username))\n",
    "            if count == NUM_POSTS:\n",
    "                break\n",
    "    return users"
   ]
  },
  {
   "cell_type": "code",
   "execution_count": 72,
   "metadata": {},
   "outputs": [
    {
     "ename": "AttributeError",
     "evalue": "'Profile' object has no attribute 'get_locations'",
     "output_type": "error",
     "traceback": [
      "\u001b[1;31m---------------------------------------------------------------------------\u001b[0m",
      "\u001b[1;31mAttributeError\u001b[0m                            Traceback (most recent call last)",
      "\u001b[1;32m<ipython-input-72-3bcb5c3f155b>\u001b[0m in \u001b[0;36m<module>\u001b[1;34m\u001b[0m\n\u001b[0;32m     24\u001b[0m \u001b[1;32mif\u001b[0m \u001b[0m__name__\u001b[0m \u001b[1;33m==\u001b[0m \u001b[1;34m\"__main__\"\u001b[0m\u001b[1;33m:\u001b[0m\u001b[1;33m\u001b[0m\u001b[1;33m\u001b[0m\u001b[0m\n\u001b[0;32m     25\u001b[0m     \u001b[0mhashtag\u001b[0m \u001b[1;33m=\u001b[0m \u001b[1;34m\"beardcare\"\u001b[0m\u001b[1;33m\u001b[0m\u001b[1;33m\u001b[0m\u001b[0m\n\u001b[1;32m---> 26\u001b[1;33m     \u001b[0musers\u001b[0m \u001b[1;33m=\u001b[0m \u001b[0mget_hashtags_posts\u001b[0m\u001b[1;33m(\u001b[0m\u001b[0mhashtag\u001b[0m\u001b[1;33m)\u001b[0m\u001b[1;33m\u001b[0m\u001b[1;33m\u001b[0m\u001b[0m\n\u001b[0m\u001b[0;32m     27\u001b[0m     \u001b[0mprint\u001b[0m\u001b[1;33m(\u001b[0m\u001b[0musers\u001b[0m\u001b[1;33m)\u001b[0m\u001b[1;33m\u001b[0m\u001b[1;33m\u001b[0m\u001b[0m\n",
      "\u001b[1;32m<ipython-input-72-3bcb5c3f155b>\u001b[0m in \u001b[0;36mget_hashtags_posts\u001b[1;34m(query)\u001b[0m\n\u001b[0;32m     14\u001b[0m         \u001b[0mprofile\u001b[0m \u001b[1;33m=\u001b[0m \u001b[0mpost\u001b[0m\u001b[1;33m.\u001b[0m\u001b[0mowner_profile\u001b[0m\u001b[1;33m\u001b[0m\u001b[1;33m\u001b[0m\u001b[0m\n\u001b[0;32m     15\u001b[0m         \u001b[1;32mif\u001b[0m \u001b[0mprofile\u001b[0m\u001b[1;33m.\u001b[0m\u001b[0musername\u001b[0m \u001b[1;32mnot\u001b[0m \u001b[1;32min\u001b[0m \u001b[0musers\u001b[0m\u001b[1;33m:\u001b[0m\u001b[1;33m\u001b[0m\u001b[1;33m\u001b[0m\u001b[0m\n\u001b[1;32m---> 16\u001b[1;33m             \u001b[0msummary\u001b[0m \u001b[1;33m=\u001b[0m \u001b[0mget_summary\u001b[0m\u001b[1;33m(\u001b[0m\u001b[0mprofile\u001b[0m\u001b[1;33m)\u001b[0m\u001b[1;33m\u001b[0m\u001b[1;33m\u001b[0m\u001b[0m\n\u001b[0m\u001b[0;32m     17\u001b[0m             \u001b[0musers\u001b[0m\u001b[1;33m[\u001b[0m\u001b[0mprofile\u001b[0m\u001b[1;33m.\u001b[0m\u001b[0musername\u001b[0m\u001b[1;33m]\u001b[0m \u001b[1;33m=\u001b[0m \u001b[0msummary\u001b[0m\u001b[1;33m\u001b[0m\u001b[1;33m\u001b[0m\u001b[0m\n\u001b[0;32m     18\u001b[0m             \u001b[0mcount\u001b[0m \u001b[1;33m+=\u001b[0m \u001b[1;36m1\u001b[0m\u001b[1;33m\u001b[0m\u001b[1;33m\u001b[0m\u001b[0m\n",
      "\u001b[1;32m<ipython-input-70-20c5e7a38c00>\u001b[0m in \u001b[0;36mget_summary\u001b[1;34m(profile)\u001b[0m\n\u001b[0;32m     26\u001b[0m         \u001b[1;32mif\u001b[0m \u001b[1;33m(\u001b[0m\u001b[0mpost\u001b[0m\u001b[1;33m.\u001b[0m\u001b[0mcomments\u001b[0m \u001b[1;32mis\u001b[0m \u001b[1;32mnot\u001b[0m \u001b[1;32mNone\u001b[0m\u001b[1;33m)\u001b[0m\u001b[1;33m:\u001b[0m\u001b[1;33m\u001b[0m\u001b[1;33m\u001b[0m\u001b[0m\n\u001b[0;32m     27\u001b[0m             \u001b[0mtotal_num_comments\u001b[0m \u001b[1;33m+=\u001b[0m \u001b[0mpost\u001b[0m\u001b[1;33m.\u001b[0m\u001b[0mcomments\u001b[0m\u001b[1;33m\u001b[0m\u001b[1;33m\u001b[0m\u001b[0m\n\u001b[1;32m---> 28\u001b[1;33m         \u001b[0mlocation\u001b[0m\u001b[1;33m.\u001b[0m\u001b[0mappend\u001b[0m\u001b[1;33m(\u001b[0m\u001b[0mprofile\u001b[0m\u001b[1;33m.\u001b[0m\u001b[0mget_locations\u001b[0m\u001b[1;33m(\u001b[0m\u001b[1;33m)\u001b[0m\u001b[1;33m)\u001b[0m\u001b[1;33m\u001b[0m\u001b[1;33m\u001b[0m\u001b[0m\n\u001b[0m\u001b[0;32m     29\u001b[0m         \u001b[0mtotal_num_posts\u001b[0m \u001b[1;33m+=\u001b[0m \u001b[1;36m1\u001b[0m\u001b[1;33m\u001b[0m\u001b[1;33m\u001b[0m\u001b[0m\n\u001b[0;32m     30\u001b[0m \u001b[1;33m\u001b[0m\u001b[0m\n",
      "\u001b[1;31mAttributeError\u001b[0m: 'Profile' object has no attribute 'get_locations'"
     ]
    }
   ],
   "source": [
    "import threading\n",
    "from instaloader import Instaloader, Profile\n",
    "# import engagement\n",
    "import pickle\n",
    "\n",
    "loader = Instaloader()\n",
    "NUM_POSTS = 10\n",
    "\n",
    "def get_hashtags_posts(query):\n",
    "    posts = loader.get_hashtag_posts(query)\n",
    "    users = {}\n",
    "    count = 0\n",
    "    for post in posts:\n",
    "        profile = post.owner_profile\n",
    "        if profile.username not in users:\n",
    "            summary = get_summary(profile)\n",
    "            users[profile.username] = summary\n",
    "            count += 1\n",
    "            print('{}: {}'.format(count, profile.username))\n",
    "            if count == NUM_POSTS:\n",
    "                break\n",
    "    return users\n",
    "\n",
    "if __name__ == \"__main__\":\n",
    "    hashtag = \"beardcare\"\n",
    "    users = get_hashtags_posts(hashtag)\n",
    "    print(users)"
   ]
  },
  {
   "cell_type": "code",
   "execution_count": null,
   "metadata": {},
   "outputs": [],
   "source": []
  }
 ],
 "metadata": {
  "kernelspec": {
   "display_name": "Python 3",
   "language": "python",
   "name": "python3"
  },
  "language_info": {
   "codemirror_mode": {
    "name": "ipython",
    "version": 3
   },
   "file_extension": ".py",
   "mimetype": "text/x-python",
   "name": "python",
   "nbconvert_exporter": "python",
   "pygments_lexer": "ipython3",
   "version": "3.8.3"
  }
 },
 "nbformat": 4,
 "nbformat_minor": 4
}
