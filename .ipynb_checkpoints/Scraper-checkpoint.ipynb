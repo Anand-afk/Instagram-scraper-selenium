{
 "cells": [
  {
   "cell_type": "code",
   "execution_count": 1,
   "metadata": {},
   "outputs": [],
   "source": [
    "# from selenium import webdriver\n",
    "# from bs4 import BeautifulSoup as bs\n",
    "# import time\n",
    "# import re\n",
    "# from urllib.request import urlopen\n",
    "# import json\n",
    "# from pandas.io.json import json_normalize\n",
    "# import pandas as pd, numpy as np"
   ]
  },
  {
   "cell_type": "code",
   "execution_count": 2,
   "metadata": {},
   "outputs": [],
   "source": [
    "# hashtag='instagram'\n",
    "# browser = webdriver.Chrome()\n",
    "# browser.get('https://www.instagram.com/'+hashtag)\n",
    "# Pagelength = browser.execute_script(\"window.scrollTo(0, document.body.scrollHeight);\")"
   ]
  },
  {
   "cell_type": "code",
   "execution_count": 3,
   "metadata": {},
   "outputs": [],
   "source": [
    "# #Extract links from user profile page\n",
    "# links=[]\n",
    "# source = browser.page_source\n",
    "# data=bs(source, 'html.parser')\n",
    "# body = data.find('body')\n",
    "# script = body.find('script', text=lambda t: t.startswith('window._sharedData'))\n",
    "# # print(script)\n",
    "# page_json = script.string.split(' = ', 1)[1].rstrip(';')\n",
    "# data = json.loads(page_json)\n"
   ]
  },
  {
   "cell_type": "code",
   "execution_count": 4,
   "metadata": {},
   "outputs": [],
   "source": [
    "# #try 'script.string' instead of script.text if you get error on index out of range\n",
    "# for link in data['entry_data']['ProfilePage'][0]['graphql']['user']['edge_owner_to_timeline_media']['edges']:\n",
    "#     links.append('https://www.instagram.com'+'/p/'+link['node']['shortcode']+'/')\n",
    "# #try with ['display_url'] instead of ['shortcode'] if you don't get links \n",
    "# #Extract links from hashtag page\n",
    "# print(links)\n"
   ]
  },
  {
   "cell_type": "code",
   "execution_count": 5,
   "metadata": {},
   "outputs": [],
   "source": [
    "# hashtag='beardcare'\n",
    "# browser = webdriver.Chrome()\n",
    "# browser.get('https://www.instagram.com/explore/tags/'+hashtag)\n",
    "# # Pagelength = browser.execute_script(\"window.scrollTo(0, document.body.scrollHeight);\")\n",
    "# scroll(browser, 5)\n",
    "\n",
    "# links=[]\n",
    "# source = browser.page_source\n",
    "# data=bs(source, 'html.parser')\n",
    "# body = data.find('body')\n",
    "# script = body.find('script', text=lambda t: t.startswith('window._sharedData'))\n",
    "# page_json = script.string.split(' = ', 1)[1].rstrip(';')\n",
    "# data = json.loads(page_json)\n",
    "# for link in data['entry_data']['TagPage'][0]['graphql']['hashtag']['edge_hashtag_to_media']['edges']:\n",
    "#     links.append('https://www.instagram.com'+'/p/'+link['node']['shortcode']+'/')"
   ]
  },
  {
   "cell_type": "code",
   "execution_count": 6,
   "metadata": {},
   "outputs": [],
   "source": [
    "# len(links)"
   ]
  },
  {
   "cell_type": "code",
   "execution_count": 7,
   "metadata": {},
   "outputs": [],
   "source": [
    "# def scroll(driver, timeout):\n",
    "#     scroll_pause_time = timeout\n",
    "\n",
    "#     # Get scroll height\n",
    "#     last_height = driver.execute_script(\"return document.body.scrollHeight\")\n",
    "\n",
    "#     while True:\n",
    "#         # Scroll down to bottom\n",
    "#         driver.execute_script(\"window.scrollTo(0, document.body.scrollHeight);\")\n",
    "\n",
    "#         # Wait to load page\n",
    "#         time.sleep(scroll_pause_time)\n",
    "\n",
    "#         # Calculate new scroll height and compare with last scroll height\n",
    "#         new_height = driver.execute_script(\"return document.body.scrollHeight\")\n",
    "#         if new_height == last_height:\n",
    "#             # If heights are the same it will exit the function\n",
    "#             break\n",
    "#         last_height = new_height"
   ]
  },
  {
   "cell_type": "code",
   "execution_count": 8,
   "metadata": {},
   "outputs": [],
   "source": [
    "# links"
   ]
  },
  {
   "cell_type": "code",
   "execution_count": null,
   "metadata": {},
   "outputs": [],
   "source": []
  },
  {
   "cell_type": "code",
   "execution_count": null,
   "metadata": {},
   "outputs": [],
   "source": []
  },
  {
   "cell_type": "code",
   "execution_count": null,
   "metadata": {},
   "outputs": [],
   "source": []
  },
  {
   "cell_type": "code",
   "execution_count": null,
   "metadata": {},
   "outputs": [],
   "source": []
  },
  {
   "cell_type": "code",
   "execution_count": null,
   "metadata": {},
   "outputs": [],
   "source": []
  },
  {
   "cell_type": "code",
   "execution_count": null,
   "metadata": {},
   "outputs": [],
   "source": []
  },
  {
   "cell_type": "code",
   "execution_count": null,
   "metadata": {},
   "outputs": [],
   "source": []
  },
  {
   "cell_type": "code",
   "execution_count": null,
   "metadata": {},
   "outputs": [],
   "source": []
  },
  {
   "cell_type": "code",
   "execution_count": null,
   "metadata": {},
   "outputs": [],
   "source": []
  },
  {
   "cell_type": "code",
   "execution_count": 56,
   "metadata": {},
   "outputs": [],
   "source": []
  },
  {
   "cell_type": "code",
   "execution_count": 58,
   "metadata": {},
   "outputs": [],
   "source": [
    "# from datetime import datetime\n",
    "# import instaloader\n",
    "\n",
    "# L = instaloader.Instaloader()\n",
    "# L.login('an_and_17','Anand@1720')\n",
    "# posts = instaloader.Hashtag.from_name(L.context, \"urbanphotography\").get_posts()\n",
    "\n",
    "\n",
    "\n",
    "# k = 0  # initiate k\n",
    "# #k_list = []  # uncomment this to tune k\n",
    "\n",
    "# for post in posts:\n",
    "#     postdate = post.location\n",
    "#     print(postdate)\n",
    "\n",
    "# #     if postdate > UNTIL:\n",
    "# #         continue\n",
    "# #     elif postdate <= SINCE:\n",
    "# #         k += 1\n",
    "# #         if k == 50:\n",
    "# #             break\n",
    "# #         else:\n",
    "# #             continue\n",
    "# #     else:\n",
    "# #         L.download_post(post, \"#urbanphotography\")\n",
    "# #         # if you want to tune k, uncomment below to get your k max\n",
    "# #         #k_list.append(k)\n",
    "# #         k = 0  # set k to 0\n"
   ]
  },
  {
   "cell_type": "code",
   "execution_count": 59,
   "metadata": {},
   "outputs": [],
   "source": [
    "# postdate.id\n"
   ]
  },
  {
   "cell_type": "code",
   "execution_count": 60,
   "metadata": {},
   "outputs": [],
   "source": [
    "# import instaloader\n",
    "\n",
    "# L = instaloader.Instaloader()\n",
    "\n",
    "# posts = instaloader.Hashtag.from_name(L.context, \"urbanphotography\").get_posts()"
   ]
  },
  {
   "cell_type": "code",
   "execution_count": 61,
   "metadata": {},
   "outputs": [],
   "source": [
    "# for post in posts:\n",
    "#     print(post.date)"
   ]
  },
  {
   "cell_type": "code",
   "execution_count": 62,
   "metadata": {},
   "outputs": [],
   "source": [
    "# L = Instaloader()\n",
    "# L.login('an_and_17','Anand@1720')\n",
    "# HASHTAG='beardcare'\n",
    "# for post in L.get_hashtag_posts(HASHTAG):\n",
    "#     location=L.get_locations(post)"
   ]
  },
  {
   "cell_type": "code",
   "execution_count": 73,
   "metadata": {},
   "outputs": [],
   "source": [
    "from instaloader import Instaloader, Profile\n",
    "import datetime"
   ]
  },
  {
   "cell_type": "code",
   "execution_count": 74,
   "metadata": {},
   "outputs": [],
   "source": [
    "MAX_DAYS = 50\n",
    "\n",
    "LIKES_WEIGHT = 1\n",
    "COMMENTS_WEIGHT = 1\n",
    "NUM_FOLLOWERS_WEIGHT = 1\n",
    "NUM_POSTS_WEIGHT = 1\n",
    "\n",
    "def get_summary(profile):\n",
    "    user = {}\n",
    "\n",
    "    total_num_likes = 0\n",
    "    total_num_comments = 0\n",
    "    total_num_posts = 0\n",
    "    current_date = datetime.datetime.now()\n",
    " \n",
    "    for post in profile.get_posts():\n",
    "        delta = current_date - post.date\n",
    "        if (delta.days > MAX_DAYS):\n",
    "            break\n",
    "        if (post.likes is not None):\n",
    "            total_num_likes += post.likes\n",
    "        if (post.comments is not None):\n",
    "            total_num_comments += post.comments\n",
    "       \n",
    "        total_num_posts += 1\n",
    "    \n",
    "        engagement = 0\n",
    "        if profile.followers > 10000 and total_num_posts > 50:\n",
    "            user['Username']=profile.username\n",
    "            engagement = float( (LIKES_WEIGHT * total_num_likes) + (COMMENTS_WEIGHT * total_num_comments)) / ((NUM_FOLLOWERS_WEIGHT * profile.followers) * (NUM_POSTS_WEIGHT * total_num_posts))\n",
    "            user['engagement'] = engagement * 100\n",
    "            user['num_recent_posts'] = total_num_posts\n",
    "            post_freq = 0.0\n",
    "            if (total_num_posts > 0):\n",
    "                post_freq = float(MAX_DAYS) / total_num_posts\n",
    "            user['post_frequency'] = post_freq\n",
    "\n",
    "            return user"
   ]
  },
  {
   "cell_type": "code",
   "execution_count": 75,
   "metadata": {},
   "outputs": [
    {
     "name": "stdout",
     "output_type": "stream",
     "text": [
      "1: {'Username': 'byaaronwallace', 'engagement': 0.8466007794556822, 'num_recent_posts': 51, 'post_frequency': 0.9803921568627451}\n",
      "2: {'Username': 'thebeardstruggle', 'engagement': 0.5668567500874954, 'num_recent_posts': 51, 'post_frequency': 0.9803921568627451}\n",
      "3: {'Username': 'gravebeforeshave', 'engagement': 0.3004675361918076, 'num_recent_posts': 51, 'post_frequency': 0.9803921568627451}\n",
      "4: {'Username': 'livebearded', 'engagement': 0.42800153094270743, 'num_recent_posts': 51, 'post_frequency': 0.9803921568627451}\n",
      "\n",
      "Too many queries in the last time. Need to wait 117 seconds, until 17:15.\n",
      "5: {'Username': 'thebarbermaestro', 'engagement': 0.04900850061670739, 'num_recent_posts': 51, 'post_frequency': 0.9803921568627451}\n",
      "6: {'Username': 'outlawsoaps', 'engagement': 1.0145458575632351, 'num_recent_posts': 51, 'post_frequency': 0.9803921568627451}\n",
      "7: {'Username': 'beard__monsters', 'engagement': 0.588078986329786, 'num_recent_posts': 51, 'post_frequency': 0.9803921568627451}\n",
      "8: {'Username': 'beardcareclubusa', 'engagement': 0.12362166595112904, 'num_recent_posts': 51, 'post_frequency': 0.9803921568627451}\n",
      "9: {'Username': 'beard__gods', 'engagement': 1.0681195555145135, 'num_recent_posts': 51, 'post_frequency': 0.9803921568627451}\n",
      "10: {'Username': 'thebeardstruggle', 'engagement': 0.5687384277512018, 'num_recent_posts': 51, 'post_frequency': 0.9803921568627451}\n",
      "{'byaaronwallace': {'Username': 'byaaronwallace', 'engagement': 0.8466007794556822, 'num_recent_posts': 51, 'post_frequency': 0.9803921568627451}, 'thebeardstruggle': {'Username': 'thebeardstruggle', 'engagement': 0.5687384277512018, 'num_recent_posts': 51, 'post_frequency': 0.9803921568627451}, 'gravebeforeshave': {'Username': 'gravebeforeshave', 'engagement': 0.3004675361918076, 'num_recent_posts': 51, 'post_frequency': 0.9803921568627451}, 'livebearded': {'Username': 'livebearded', 'engagement': 0.42800153094270743, 'num_recent_posts': 51, 'post_frequency': 0.9803921568627451}, 'thebarbermaestro': {'Username': 'thebarbermaestro', 'engagement': 0.04900850061670739, 'num_recent_posts': 51, 'post_frequency': 0.9803921568627451}, 'outlawsoaps': {'Username': 'outlawsoaps', 'engagement': 1.0145458575632351, 'num_recent_posts': 51, 'post_frequency': 0.9803921568627451}, 'beard__monsters': {'Username': 'beard__monsters', 'engagement': 0.588078986329786, 'num_recent_posts': 51, 'post_frequency': 0.9803921568627451}, 'beardcareclubusa': {'Username': 'beardcareclubusa', 'engagement': 0.12362166595112904, 'num_recent_posts': 51, 'post_frequency': 0.9803921568627451}, 'beard__gods': {'Username': 'beard__gods', 'engagement': 1.0681195555145135, 'num_recent_posts': 51, 'post_frequency': 0.9803921568627451}}\n"
     ]
    }
   ],
   "source": [
    "import threading\n",
    "from instaloader import Instaloader, Profile\n",
    "import pickle\n",
    "\n",
    "loader = Instaloader()\n",
    "NUM_POSTS = 10\n",
    "loader.login('an_and_17','Anand@1720')\n",
    "\n",
    "def get_hashtags_posts(query):\n",
    "    posts = loader.get_hashtag_posts(query)\n",
    "    users = {}\n",
    "    count = 0\n",
    "    for post in posts:\n",
    "        profile = post.owner_profile\n",
    "#         print(profile.username)\n",
    "        summary = get_summary(profile)\n",
    "        if summary != None:\n",
    "            users[profile.username] = summary\n",
    "            count += 1\n",
    "            print('{}: {}'.format(count, users[profile.username]))\n",
    "        if count == NUM_POSTS:\n",
    "            break\n",
    "    return users\n",
    "\n",
    "if __name__ == \"__main__\":\n",
    "    hashtag = \"beardcare\"\n",
    "    users = get_hashtags_posts(hashtag)\n",
    "    print(users)"
   ]
  },
  {
   "cell_type": "code",
   "execution_count": 28,
   "metadata": {},
   "outputs": [],
   "source": [
    "# location = loader.get_location_posts('Australia')"
   ]
  },
  {
   "cell_type": "code",
   "execution_count": null,
   "metadata": {},
   "outputs": [],
   "source": [
    "# for i in location:\n",
    "# #     print(i)"
   ]
  },
  {
   "cell_type": "code",
   "execution_count": 22,
   "metadata": {},
   "outputs": [
    {
     "ename": "NameError",
     "evalue": "name 'users' is not defined",
     "output_type": "error",
     "traceback": [
      "\u001b[0;31m---------------------------------------------------------------------------\u001b[0m",
      "\u001b[0;31mNameError\u001b[0m                                 Traceback (most recent call last)",
      "\u001b[0;32m<ipython-input-22-ecac3025b76d>\u001b[0m in \u001b[0;36m<module>\u001b[0;34m\u001b[0m\n\u001b[0;32m----> 1\u001b[0;31m \u001b[0musers\u001b[0m\u001b[0;34m\u001b[0m\u001b[0;34m\u001b[0m\u001b[0m\n\u001b[0m",
      "\u001b[0;31mNameError\u001b[0m: name 'users' is not defined"
     ]
    }
   ],
   "source": [
    "users"
   ]
  },
  {
   "cell_type": "code",
   "execution_count": 35,
   "metadata": {},
   "outputs": [
    {
     "name": "stdout",
     "output_type": "stream",
     "text": [
      "Enter Instagram password for rosha_shinde: ········\n",
      "Loaded session from /home/anand/.config/instaloader/session-an_and_17.\n"
     ]
    }
   ],
   "source": [
    "import instaloader\n",
    "\n",
    "# Get instance\n",
    "L = instaloader.Instaloader()\n",
    "\n",
    "# Optionally, login or load session\n",
    "L.login('rosha_shinde', 'fattyandme')        # (login)\n",
    "L.interactive_login('rosha_shinde')      # (ask password on terminal)\n",
    "L.load_session_from_file('an_and_17') # (load session created w/#  `instaloader -l USERNAME`)"
   ]
  },
  {
   "cell_type": "code",
   "execution_count": null,
   "metadata": {},
   "outputs": [],
   "source": [
    "for post in instaloader.Hashtag.from_name(L.context, 'beardcare').get_posts():\n",
    "    # post is an instance of instaloader.Post\n",
    "    L.download_post(post, target='%location_id')"
   ]
  },
  {
   "cell_type": "code",
   "execution_count": null,
   "metadata": {},
   "outputs": [],
   "source": []
  }
 ],
 "metadata": {
  "kernelspec": {
   "display_name": "Python 3",
   "language": "python",
   "name": "python3"
  },
  "language_info": {
   "codemirror_mode": {
    "name": "ipython",
    "version": 3
   },
   "file_extension": ".py",
   "mimetype": "text/x-python",
   "name": "python",
   "nbconvert_exporter": "python",
   "pygments_lexer": "ipython3",
   "version": "3.8.2"
  }
 },
 "nbformat": 4,
 "nbformat_minor": 4
}
